{
  "cells": [
    {
      "cell_type": "markdown",
      "metadata": {},
      "source": [
        "# InfoGenAI User Interface\n",
        "This Jupyter Notebook implements a web user interface to InfoGenAI"
      ]
    },
    {
      "cell_type": "code",
      "execution_count": 1,
      "metadata": {},
      "outputs": [],
      "source": [
        "!pip install gradio requests --quiet"
      ]
    },
    {
      "cell_type": "code",
      "execution_count": null,
      "metadata": {},
      "outputs": [
        {
          "name": "stdout",
          "output_type": "stream",
          "text": [
            "* Running on local URL:  http://127.0.0.1:7860\n",
            "\n",
            "To create a public link, set `share=True` in `launch()`.\n"
          ]
        },
        {
          "data": {
            "text/html": [
              "<div><iframe src=\"http://127.0.0.1:7860/\" width=\"100%\" height=\"500\" allow=\"autoplay; camera; microphone; clipboard-read; clipboard-write;\" frameborder=\"0\" allowfullscreen></iframe></div>"
            ],
            "text/plain": [
              "<IPython.core.display.HTML object>"
            ]
          },
          "metadata": {},
          "output_type": "display_data"
        },
        {
          "data": {
            "text/plain": []
          },
          "execution_count": 2,
          "metadata": {},
          "output_type": "execute_result"
        }
      ],
      "source": [
        "import gradio as gr\n",
        "import requests\n",
        "from datetime import datetime\n",
        "\n",
        "def append_debug_message(debug_messages, message):\n",
        "    \"\"\"Appends a timestamped debug message to the debug log.\"\"\"\n",
        "    timestamp = datetime.now().strftime(\"%Y-%m-%d %H:%M:%S.%f\")[:-3]\n",
        "    debug_messages.append(f\"{timestamp} D {message}\")\n",
        "    return debug_messages\n",
        "\n",
        "def fetch_agents(backend_url, debug_messages):\n",
        "    \"\"\"Fetches the list of agents from the backend and logs the communication.\"\"\"\n",
        "    try:\n",
        "        debug_messages = append_debug_message(debug_messages, f\"Sending request to fetch agents: {backend_url}\")\n",
        "        response = requests.post(backend_url, data={\"Body\": \"list_agents\"})\n",
        "        if response.status_code == 200:\n",
        "            agents = response.text.split(\"\\n\")\n",
        "            agent_descriptions = [line for line in agents if \" - \" in line]\n",
        "            debug_messages = append_debug_message(debug_messages, f\"Received agents: {agent_descriptions}\")\n",
        "            return agent_descriptions, debug_messages\n",
        "        else:\n",
        "            error_message = f\"Error: Unable to fetch agents. Status code: {response.status_code}\"\n",
        "            debug_messages = append_debug_message(debug_messages, error_message)\n",
        "            return [error_message], debug_messages\n",
        "    except requests.RequestException as e:\n",
        "        error_message = f\"Request failed: {e}\"\n",
        "        debug_messages = append_debug_message(debug_messages, error_message)\n",
        "        return [error_message], debug_messages\n",
        "\n",
        "def analyze(prompt, backend_url, selected_agents, debug_messages):\n",
        "    \"\"\"Sends the article and selected agents to the backend for analysis and logs the communication.\"\"\"\n",
        "    try:\n",
        "        selected_agents = [agent.split(\" - \")[0] for agent in selected_agents if agent]\n",
        "        debug_messages = append_debug_message(debug_messages, f\"Sending analysis request with agents: {selected_agents}\")\n",
        "        response = requests.post(\n",
        "            backend_url,\n",
        "            data={\"Body\": prompt, \"From\": \"gradio_user\", \"Agents\": \",\".join(selected_agents)},\n",
        "        )\n",
        "        if response.status_code == 200:\n",
        "            debug_messages = append_debug_message(debug_messages, f\"Received analysis response: {response.text}\")\n",
        "            return response.text, debug_messages\n",
        "        else:\n",
        "            error_message = f\"Error: {response.status_code} - {response.text}\"\n",
        "            debug_messages = append_debug_message(debug_messages, error_message)\n",
        "            return error_message, debug_messages\n",
        "    except requests.RequestException as e:\n",
        "        error_message = f\"Request failed: {e}\"\n",
        "        debug_messages = append_debug_message(debug_messages, error_message)\n",
        "        return error_message, debug_messages\n",
        "\n",
        "with gr.Blocks() as interface:\n",
        "    debug_messages = gr.State([])  # State to store debug messages\n",
        "\n",
        "    with gr.Tab(\"Article\"):\n",
        "        # Backend Section\n",
        "        with gr.Row():\n",
        "            backend_url = gr.Textbox(label=\"Backend URL\", value=\"http://localhost:5000/infofactagents\", interactive=True)\n",
        "\n",
        "        # Agents Section\n",
        "        with gr.Row():\n",
        "            enabled_agents = gr.CheckboxGroup(label=\"Enable Agents\", choices=[], interactive=True)\n",
        "\n",
        "        # Article Section\n",
        "        with gr.Row():\n",
        "            prompt = gr.Textbox(label=\"Enter news article\", lines=5, interactive=True)\n",
        "\n",
        "        # Analyze Button and Trustworthiness Output\n",
        "        with gr.Row():\n",
        "            send_button = gr.Button(\"Analyze\")\n",
        "        with gr.Row():\n",
        "            output = gr.Textbox(label=\"Trustworthiness Analysis\", lines=10, interactive=False)\n",
        "\n",
        "        def update_agents(backend_url, debug_messages):\n",
        "            agents, updated_debug = fetch_agents(backend_url, debug_messages)\n",
        "            return gr.update(choices=agents), updated_debug\n",
        "        \n",
        "        # Automatically fetch agents when the interface starts\n",
        "        interface.load(\n",
        "            fn=update_agents,\n",
        "            inputs=[backend_url, debug_messages],\n",
        "            outputs=[enabled_agents, debug_messages],\n",
        "        )\n",
        "        \n",
        "        send_button.click(\n",
        "            fn=analyze,\n",
        "            inputs=[prompt, backend_url, enabled_agents, debug_messages],\n",
        "            outputs=[output, debug_messages],\n",
        "        )\n",
        "    \n",
        "    with gr.Tab(\"Debug\") as debug_tab:\n",
        "        debug_output = gr.Textbox(label=\"Debug Info\", lines=15, interactive=False)\n",
        "        \n",
        "        # Refresh debug info whenever the Debug tab is activated\n",
        "        debug_tab.select(\n",
        "            fn=lambda debug_messages: \"\\n\".join(debug_messages),\n",
        "            inputs=debug_messages,\n",
        "            outputs=debug_output,\n",
        "        )\n",
        "\n",
        "interface.launch(inline=True)"
      ]
    }
  ],
  "metadata": {
    "colab": {
      "name": "sihteeri_gradio.ipynb"
    },
    "kernelspec": {
      "display_name": "Python 3",
      "language": "python",
      "name": "python3"
    },
    "language_info": {
      "codemirror_mode": {
        "name": "ipython",
        "version": 3
      },
      "file_extension": ".py",
      "mimetype": "text/x-python",
      "name": "python",
      "nbconvert_exporter": "python",
      "pygments_lexer": "ipython3",
      "version": "3.11.10"
    }
  },
  "nbformat": 4,
  "nbformat_minor": 0
}
